{
 "cells": [
  {
   "cell_type": "code",
   "execution_count": 1,
   "metadata": {},
   "outputs": [],
   "source": [
    "from utils.utils import load_df, save_df"
   ]
  },
  {
   "cell_type": "code",
   "execution_count": 2,
   "metadata": {},
   "outputs": [],
   "source": [
    "# import data\n",
    "counts_df = load_df('counts.csv')\n",
    "batches_meta_data = load_df('batches_meta_data.csv')\n",
    "\n",
    "counts_df.rename_axis('gene', inplace=True) # set index name to 'gene'\n",
    "counts_df.rename_axis('batch', axis=1, inplace=True) # set cols name to 'batch'\n",
    "#counts_df = counts_df.T # transpose df (switch rows and cols)\n",
    "\n",
    "batches_meta_data.rename(columns={'batch':'month'}, inplace=True) # rename col batch to month\n",
    "batches_meta_data.rename_axis('batch', inplace=True) # set index name to 'batch'"
   ]
  },
  {
   "cell_type": "markdown",
   "metadata": {},
   "source": [
    "# Preprocessing"
   ]
  },
  {
   "cell_type": "code",
   "execution_count": 3,
   "metadata": {},
   "outputs": [
    {
     "name": "stdout",
     "output_type": "stream",
     "text": [
      "Removed 5668 genes from 25167 (22%) which appeared in < 3 samples with a count of >= 10.\n",
      "19499 genes remaining\n"
     ]
    }
   ],
   "source": [
    "# Define the threshold and the smallest group size\n",
    "threshold = 10\n",
    "smallestGroupSize = 3  # Set this to your specific smallest group size\n",
    "\n",
    "original_len = len(counts_df)\n",
    "\n",
    "# Apply the filtering condition\n",
    "keep = (counts_df >= threshold).sum(axis=1) >= smallestGroupSize\n",
    "\n",
    "# Filter the DataFrame\n",
    "filtered_df = counts_df[keep].T\n",
    "\n",
    "print(f'Removed {original_len - len(filtered_df.keys())} genes from {original_len} ({int((original_len - len(filtered_df.keys())) / original_len * 100)}%) which appeared in < {smallestGroupSize} samples with a count of >= {threshold}.')\n",
    "print(f'{len(filtered_df.keys())} genes remaining')\n",
    "\n",
    "# save preprocessed data\n",
    "save_df(filtered_df, 'counts_preprocessed.csv')\n",
    "save_df(batches_meta_data, 'batches_meta_data_preprocessed.csv')"
   ]
  }
 ],
 "metadata": {
  "kernelspec": {
   "display_name": "Deseq2 Amaranth_2",
   "language": "python",
   "name": "deseq2-amaranth"
  },
  "language_info": {
   "codemirror_mode": {
    "name": "ipython",
    "version": 3
   },
   "file_extension": ".py",
   "mimetype": "text/x-python",
   "name": "python",
   "nbconvert_exporter": "python",
   "pygments_lexer": "ipython3",
   "version": "3.12.6"
  },
  "orig_nbformat": 4
 },
 "nbformat": 4,
 "nbformat_minor": 2
}
