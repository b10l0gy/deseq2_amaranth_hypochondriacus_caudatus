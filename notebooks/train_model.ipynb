{
 "cells": [
  {
   "cell_type": "code",
   "execution_count": 1,
   "metadata": {},
   "outputs": [],
   "source": [
    "import pandas as pd\n",
    "from utils.utils import train_model, load_df, train_model_with_batch"
   ]
  },
  {
   "cell_type": "code",
   "execution_count": 5,
   "metadata": {},
   "outputs": [],
   "source": [
    "counts_df = load_df('counts_preprocessed.csv')\n",
    "design_df = load_df('batches_meta_data_preprocessed.csv')"
   ]
  },
  {
   "cell_type": "code",
   "execution_count": null,
   "metadata": {},
   "outputs": [],
   "source": [
    "# fit model\n",
    "design_factor_lists = [['species'], ['accession'], ['seed_color']]\n",
    "\n",
    "# for all design factors train a model\n",
    "for design_factors in design_factor_lists:\n",
    "    train_model(counts_df, design_df, design_factors)"
   ]
  }
 ],
 "metadata": {
  "kernelspec": {
   "display_name": "Deseq2 Amaranth (Poetry)",
   "language": "python",
   "name": "deseq2_amaranth"
  },
  "language_info": {
   "codemirror_mode": {
    "name": "ipython",
    "version": 3
   },
   "file_extension": ".py",
   "mimetype": "text/x-python",
   "name": "python",
   "nbconvert_exporter": "python",
   "pygments_lexer": "ipython3",
   "version": "3.12.6"
  },
  "orig_nbformat": 4
 },
 "nbformat": 4,
 "nbformat_minor": 2
}
