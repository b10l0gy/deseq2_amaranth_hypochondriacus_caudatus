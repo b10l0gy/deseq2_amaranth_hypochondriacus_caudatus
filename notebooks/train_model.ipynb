{
 "cells": [
  {
   "cell_type": "code",
   "execution_count": 1,
   "metadata": {},
   "outputs": [],
   "source": [
    "from utils.utils import train_model, load_df"
   ]
  },
  {
   "cell_type": "code",
   "execution_count": 2,
   "metadata": {},
   "outputs": [],
   "source": [
    "# load preprocessed data and meta data\n",
    "counts_df = load_df('counts_preprocessed.csv')\n",
    "design_df = load_df('batches_meta_data_preprocessed.csv')"
   ]
  },
  {
   "cell_type": "code",
   "execution_count": 3,
   "metadata": {},
   "outputs": [
    {
     "name": "stderr",
     "output_type": "stream",
     "text": [
      "Fitting size factors...\n",
      "... done in 0.02 seconds.\n",
      "\n",
      "Fitting dispersions...\n",
      "... done in 6.67 seconds.\n",
      "\n",
      "Fitting dispersion trend curve...\n",
      "... done in 0.50 seconds.\n",
      "\n",
      "Fitting MAP dispersions...\n",
      "... done in 8.79 seconds.\n",
      "\n",
      "Fitting LFCs...\n",
      "... done in 3.67 seconds.\n",
      "\n",
      "Calculating cook's distance...\n",
      "... done in 0.03 seconds.\n",
      "\n",
      "Replacing 132 outlier genes.\n",
      "\n",
      "Fitting dispersions...\n",
      "... done in 0.08 seconds.\n",
      "\n",
      "Fitting MAP dispersions...\n",
      "... done in 0.11 seconds.\n",
      "\n",
      "Fitting LFCs...\n",
      "... done in 0.06 seconds.\n",
      "\n",
      "Fitting size factors...\n",
      "... done in 0.01 seconds.\n",
      "\n",
      "Fitting dispersions...\n",
      "... done in 6.81 seconds.\n",
      "\n",
      "Fitting dispersion trend curve...\n",
      "... done in 0.56 seconds.\n",
      "\n",
      "Fitting MAP dispersions...\n",
      "... done in 7.89 seconds.\n",
      "\n",
      "Fitting LFCs...\n",
      "... done in 3.81 seconds.\n",
      "\n",
      "Calculating cook's distance...\n",
      "... done in 0.02 seconds.\n",
      "\n",
      "Replacing 0 outlier genes.\n",
      "\n",
      "/Users/timockenga/Programming/deseq2_amaranth_hypochondriacus_caudatus/utils/utils.py:114: UserWarning: Same factor names in the design contain underscores ('_'). They will\n",
      "                be converted to hyphens ('-').\n",
      "  dds = DeseqDataSet(\n",
      "Fitting size factors...\n",
      "... done in 0.02 seconds.\n",
      "\n",
      "Fitting dispersions...\n",
      "... done in 6.50 seconds.\n",
      "\n",
      "Fitting dispersion trend curve...\n",
      "... done in 0.49 seconds.\n",
      "\n",
      "Fitting MAP dispersions...\n",
      "... done in 7.99 seconds.\n",
      "\n",
      "Fitting LFCs...\n",
      "... done in 3.78 seconds.\n",
      "\n",
      "Calculating cook's distance...\n",
      "... done in 0.02 seconds.\n",
      "\n",
      "Replacing 644 outlier genes.\n",
      "\n",
      "Fitting dispersions...\n",
      "... done in 0.30 seconds.\n",
      "\n",
      "Fitting MAP dispersions...\n",
      "... done in 0.30 seconds.\n",
      "\n",
      "Fitting LFCs...\n",
      "... done in 0.21 seconds.\n",
      "\n"
     ]
    }
   ],
   "source": [
    "# fit model\n",
    "design_factor_lists = [['species'], ['accession'], ['seed_color']]\n",
    "\n",
    "# for all design factors train a model\n",
    "for design_factors in design_factor_lists:\n",
    "    train_model(counts_df, design_df, design_factors)"
   ]
  }
 ],
 "metadata": {
  "kernelspec": {
   "display_name": "Deseq2 Amaranth_2",
   "language": "python",
   "name": "deseq2-amaranth"
  },
  "language_info": {
   "codemirror_mode": {
    "name": "ipython",
    "version": 3
   },
   "file_extension": ".py",
   "mimetype": "text/x-python",
   "name": "python",
   "nbconvert_exporter": "python",
   "pygments_lexer": "ipython3",
   "version": "3.12.6"
  },
  "orig_nbformat": 4
 },
 "nbformat": 4,
 "nbformat_minor": 2
}
