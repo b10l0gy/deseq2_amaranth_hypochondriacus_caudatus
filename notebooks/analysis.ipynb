{
 "cells": [
  {
   "cell_type": "code",
   "execution_count": 1,
   "metadata": {},
   "outputs": [],
   "source": [
    "from pydeseq2.ds import DeseqStats\n",
    "from utils.utils import load_model, save_df"
   ]
  },
  {
   "cell_type": "code",
   "execution_count": 2,
   "metadata": {},
   "outputs": [
    {
     "name": "stdout",
     "output_type": "stream",
     "text": [
      "Successfully loaded model: dds_species\n"
     ]
    }
   ],
   "source": [
    "dds = load_model(['species'])"
   ]
  },
  {
   "cell_type": "markdown",
   "metadata": {},
   "source": [
    "## descriptive statistics"
   ]
  },
  {
   "cell_type": "code",
   "execution_count": 3,
   "metadata": {},
   "outputs": [
    {
     "name": "stderr",
     "output_type": "stream",
     "text": [
      "Running Wald tests...\n"
     ]
    },
    {
     "name": "stdout",
     "output_type": "stream",
     "text": [
      "Log2 fold change & Wald test p-value: species hypochondriacus vs caudatus\n",
      "              baseMean  log2FoldChange     lfcSE      stat    pvalue      padj\n",
      "AHq000001   423.562228       -0.071131  0.203305 -0.349873  0.726434  0.818046\n",
      "AHq000002  1575.517497        1.170735  0.417829  2.801947  0.005080  0.022686\n",
      "AHq000003   352.963514        0.162567  0.245005  0.663523  0.506996  0.645568\n",
      "AHq000004   340.614957        0.150058  0.350274  0.428403  0.668358  0.774188\n",
      "AHq000005   668.719091        0.425988  0.346249  1.230295  0.218587  0.358085\n",
      "...                ...             ...       ...       ...       ...       ...\n",
      "AHq024993    17.464828        0.591391  1.754689  0.337035       NaN       NaN\n",
      "AHq024994    18.575629        2.115156  1.706476  1.239488       NaN       NaN\n",
      "AHq025019   192.046205        0.356398  0.350318  1.017355  0.308985  0.457162\n",
      "AHq025020  1045.351245        1.044924  0.242998  4.300135  0.000017  0.000248\n",
      "AHq025042    13.565600        2.027804  1.971139  1.028747  0.303598  0.451803\n",
      "\n",
      "[19499 rows x 6 columns]\n"
     ]
    },
    {
     "name": "stderr",
     "output_type": "stream",
     "text": [
      "... done in 5.59 seconds.\n",
      "\n"
     ]
    }
   ],
   "source": [
    "#  DeseqStats to perform the statistical analysis\n",
    "ds = DeseqStats(dds, contrast=['species', 'hypochondriacus','caudatus'], alpha=0.01)\n",
    "ds.summary()"
   ]
  },
  {
   "cell_type": "code",
   "execution_count": 10,
   "metadata": {},
   "outputs": [],
   "source": [
    "# Extract the results as a pandas DataFrame\n",
    "results_df = ds.results_df\n",
    "save_df(results_df, 'statistical_results_hypochondriacus_caudatus_df.csv')"
   ]
  },
  {
   "cell_type": "code",
   "execution_count": 11,
   "metadata": {},
   "outputs": [
    {
     "name": "stdout",
     "output_type": "stream",
     "text": [
      "              baseMean  log2FoldChange     lfcSE       stat        pvalue  \\\n",
      "AHq000022   217.034515       -1.104376  0.306682  -3.933239  8.380871e-05   \n",
      "AHq000038   253.044158       -2.184192  0.613639  -4.046933  5.189305e-05   \n",
      "AHq000052   185.638237       -4.876327  0.860936  -5.937624  2.891814e-09   \n",
      "AHq000057   199.628097        1.478932  0.282280   5.584511  2.343585e-08   \n",
      "AHq000060    28.703082       -1.425997  0.439662  -3.749962  1.768613e-04   \n",
      "...                ...             ...       ...        ...           ...   \n",
      "AHq024861   107.696769        5.115357  0.491572  10.802272  3.357884e-27   \n",
      "AHq024869   177.215456        3.552030  0.824633   4.933737  8.067112e-07   \n",
      "AHq024875  6773.255081        1.915816  0.975038   2.951113  3.166306e-03   \n",
      "AHq024922  1167.485887       13.524586  1.317859  10.852318  1.944300e-27   \n",
      "AHq024948    55.005518        1.053722  0.317872   3.705905  2.106372e-04   \n",
      "\n",
      "                   padj  \n",
      "AHq000022  9.220857e-04  \n",
      "AHq000038  6.193676e-04  \n",
      "AHq000052  1.293920e-07  \n",
      "AHq000057  8.513724e-07  \n",
      "AHq000060  1.689473e-03  \n",
      "...                 ...  \n",
      "AHq024861  1.278564e-24  \n",
      "AHq024869  1.851717e-05  \n",
      "AHq024875  1.569735e-02  \n",
      "AHq024922  7.551273e-25  \n",
      "AHq024948  1.924878e-03  \n",
      "\n",
      "[3683 rows x 6 columns]\n"
     ]
    }
   ],
   "source": [
    "# Manually filtering results for significant DEG based on adjusted p-value and LFC\n",
    "significant_results = results_df[(results_df['padj'] < 0.05) & (abs(results_df['log2FoldChange']) > 1)]\n",
    "print(significant_results)"
   ]
  },
  {
   "cell_type": "code",
   "execution_count": 13,
   "metadata": {},
   "outputs": [],
   "source": [
    "save_df(significant_results, 'significant_DEG_results_hypochondriacus_caudatus_df.csv')"
   ]
  }
 ],
 "metadata": {
  "kernelspec": {
   "display_name": "Deseq2 Amaranth_2",
   "language": "python",
   "name": "deseq2-amaranth"
  },
  "language_info": {
   "codemirror_mode": {
    "name": "ipython",
    "version": 3
   },
   "file_extension": ".py",
   "mimetype": "text/x-python",
   "name": "python",
   "nbconvert_exporter": "python",
   "pygments_lexer": "ipython3",
   "version": "3.12.6"
  },
  "orig_nbformat": 4
 },
 "nbformat": 4,
 "nbformat_minor": 2
}
