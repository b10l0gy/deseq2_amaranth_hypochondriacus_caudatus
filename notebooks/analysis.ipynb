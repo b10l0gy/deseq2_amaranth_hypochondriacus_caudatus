{
 "cells": [
  {
   "cell_type": "code",
   "execution_count": 1,
   "metadata": {},
   "outputs": [],
   "source": [
    "from pydeseq2.ds import DeseqStats\n",
    "from utils.utils import load_model, save_df"
   ]
  },
  {
   "cell_type": "code",
   "execution_count": 2,
   "metadata": {},
   "outputs": [
    {
     "name": "stdout",
     "output_type": "stream",
     "text": [
      "Successfully loaded model: dds_species\n"
     ]
    },
    {
     "name": "stderr",
     "output_type": "stream",
     "text": [
      "Running Wald tests...\n"
     ]
    },
    {
     "name": "stdout",
     "output_type": "stream",
     "text": [
      "Log2 fold change & Wald test p-value: species hypochondriacus vs caudatus\n",
      "              baseMean  log2FoldChange     lfcSE      stat    pvalue      padj\n",
      "AHq000001   423.562228       -0.071131  0.203305 -0.349873  0.726434  0.818046\n",
      "AHq000002  1575.517497        1.170735  0.417829  2.801947  0.005080  0.022686\n",
      "AHq000003   352.963514        0.162567  0.245005  0.663523  0.506996  0.645568\n",
      "AHq000004   340.614957        0.150058  0.350274  0.428403  0.668358  0.774188\n",
      "AHq000005   668.719091        0.425988  0.346249  1.230295  0.218587  0.358085\n",
      "...                ...             ...       ...       ...       ...       ...\n",
      "AHq024993    17.464828        0.591391  1.754689  0.337035       NaN       NaN\n",
      "AHq024994    18.575629        2.115156  1.706476  1.239488       NaN       NaN\n",
      "AHq025019   192.046205        0.356398  0.350318  1.017355  0.308985  0.457162\n",
      "AHq025020  1045.351245        1.044924  0.242998  4.300135  0.000017  0.000248\n",
      "AHq025042    13.565600        2.027804  1.971139  1.028747  0.303598  0.451803\n",
      "\n",
      "[19499 rows x 6 columns]\n"
     ]
    },
    {
     "name": "stderr",
     "output_type": "stream",
     "text": [
      "... done in 5.09 seconds.\n",
      "\n"
     ]
    }
   ],
   "source": [
    "# load model\n",
    "dds = load_model(['species'])\n",
    "\n",
    "#  DeseqStats to perform the statistical analysis\n",
    "ds = DeseqStats(dds, contrast=['species', 'hypochondriacus','caudatus'], alpha=0.01, independent_filter=False)   # make padj deterministic\n",
    "ds.summary()"
   ]
  },
  {
   "cell_type": "code",
   "execution_count": 3,
   "metadata": {},
   "outputs": [],
   "source": [
    "# Extract the results as a pandas DataFrame\n",
    "results_df = ds.results_df\n",
    "save_df(results_df, 'statistical_results_hypochondriacus_caudatus_df.csv')"
   ]
  },
  {
   "cell_type": "code",
   "execution_count": 4,
   "metadata": {},
   "outputs": [],
   "source": [
    "def significant_genes_count(results_df,\n",
    "                             padj_treshold: float = 0.05,\n",
    "                             log2FoldChange_treshold: float = 1) -> int:\n",
    "    \"\"\"\n",
    "    Count genes that meet standard DE-analysis significance criteria.\n",
    "\n",
    "    A gene is deemed significant when:\n",
    "      * its adjusted p-value (`padj`) is below ``padj_treshold``, **and**\n",
    "      * the absolute log2 fold-change (`log2FoldChange`) exceeds\n",
    "        ``log2FoldChange_treshold``.\n",
    "\n",
    "    Parameters\n",
    "    ----------\n",
    "    results_df : pandas.DataFrame\n",
    "        Data frame (e.g. `DeseqStats.results_df`) containing at least the\n",
    "        columns ``'padj'`` and ``'log2FoldChange'``.\n",
    "    padj_treshold : float, optional\n",
    "        Adjusted p-value cutoff; default is ``0.05``.\n",
    "    log2FoldChange_treshold : float, optional\n",
    "        Minimum absolute log2 fold-change; default is ``1``.\n",
    "\n",
    "    Returns\n",
    "    -------\n",
    "    int\n",
    "        Number of genes satisfying both criteria.\n",
    "\n",
    "    Examples\n",
    "    --------\n",
    "    >>> n_sig = significant_genes_count(res_df, 0.01, 1.5)\n",
    "    >>> print(f\"{n_sig} genes are significant.\")\n",
    "    \"\"\"\n",
    "    return len(\n",
    "        results_df[\n",
    "            (results_df[\"padj\"] < padj_treshold)\n",
    "            & (abs(results_df[\"log2FoldChange\"]) > log2FoldChange_treshold)\n",
    "        ]\n",
    "    )"
   ]
  },
  {
   "cell_type": "code",
   "execution_count": 5,
   "metadata": {},
   "outputs": [
    {
     "name": "stdout",
     "output_type": "stream",
     "text": [
      "Significant genes before shrinkage: 4234\n"
     ]
    }
   ],
   "source": [
    "sig_genes_before_shrink = significant_genes_count(results_df)\n",
    "print(\"Significant genes before shrinkage:\", sig_genes_before_shrink)"
   ]
  },
  {
   "cell_type": "code",
   "execution_count": 6,
   "metadata": {},
   "outputs": [
    {
     "name": "stderr",
     "output_type": "stream",
     "text": [
      "Fitting MAP LFCs...\n"
     ]
    },
    {
     "name": "stdout",
     "output_type": "stream",
     "text": [
      "Shrunk log2 fold change & Wald test p-value: species hypochondriacus vs caudatus\n",
      "              baseMean  log2FoldChange     lfcSE      stat    pvalue      padj\n",
      "AHq000001   423.562228       -0.065732  0.200792 -0.349873  0.726434  0.818046\n",
      "AHq000002  1575.517497        1.019457  0.420653  2.801947  0.005080  0.022686\n",
      "AHq000003   352.963514        0.150430  0.242027  0.663523  0.506996  0.645568\n",
      "AHq000004   340.614957        0.128459  0.339802  0.428403  0.668358  0.774188\n",
      "AHq000005   668.719091        0.374397  0.339021  1.230295  0.218587  0.358085\n",
      "...                ...             ...       ...       ...       ...       ...\n",
      "AHq024993    17.464828        0.342442  1.653925  0.337035       NaN       NaN\n",
      "AHq024994    18.575629        0.357319  1.607735  1.239488       NaN       NaN\n",
      "AHq025019   192.046205        0.306580  0.342169  1.017355  0.308985  0.457162\n",
      "AHq025020  1045.351245        0.998641  0.243465  4.300135  0.000017  0.000248\n",
      "AHq025042    13.565600        0.258668  1.661159  1.028747  0.303598  0.451803\n",
      "\n",
      "[19499 rows x 6 columns]\n"
     ]
    },
    {
     "name": "stderr",
     "output_type": "stream",
     "text": [
      "... done in 8.00 seconds.\n",
      "\n"
     ]
    }
   ],
   "source": [
    "# apply lfc shrinkage - changes log2FoldChange - padj remain the same\n",
    "ds.lfc_shrink(coeff=dds.varm['LFC'].keys()[-1])"
   ]
  },
  {
   "cell_type": "code",
   "execution_count": 7,
   "metadata": {},
   "outputs": [
    {
     "name": "stdout",
     "output_type": "stream",
     "text": [
      "Significant genes after shrinkage: 3854\n",
      "Difference to number of genes before lfc shrinkage: 380\n"
     ]
    }
   ],
   "source": [
    "sig_genes_after_shrink = significant_genes_count(results_df)\n",
    "print(\"Significant genes after shrinkage:\", sig_genes_after_shrink)\n",
    "print(\"Difference to number of genes before lfc shrinkage:\", sig_genes_before_shrink - sig_genes_after_shrink)"
   ]
  },
  {
   "cell_type": "code",
   "execution_count": 8,
   "metadata": {},
   "outputs": [
    {
     "name": "stdout",
     "output_type": "stream",
     "text": [
      "              baseMean  log2FoldChange     lfcSE       stat        pvalue  \\\n",
      "AHq000002  1575.517497        1.019457  0.420653   2.801947  5.079525e-03   \n",
      "AHq000022   217.034515       -1.128378  0.305612  -3.933239  8.380871e-05   \n",
      "AHq000038   253.044158       -2.211554  0.610289  -4.046933  5.189305e-05   \n",
      "AHq000052   185.638237       -4.880228  0.860050  -5.937624  2.891814e-09   \n",
      "AHq000057   199.628097        1.491808  0.281231   5.584511  2.343585e-08   \n",
      "...                ...             ...       ...        ...           ...   \n",
      "AHq024861   107.696769        5.117326  0.491480  10.802272  3.357884e-27   \n",
      "AHq024869   177.215456        3.567805  0.821545   4.933737  8.067112e-07   \n",
      "AHq024875  6773.255081        1.995769  0.952468   2.951113  3.166306e-03   \n",
      "AHq024922  1167.485887       13.521477  1.316624  10.852318  1.944300e-27   \n",
      "AHq024948    55.005518        1.080197  0.315839   3.705905  2.106372e-04   \n",
      "\n",
      "                   padj  \n",
      "AHq000002  2.268613e-02  \n",
      "AHq000022  9.220857e-04  \n",
      "AHq000038  6.193676e-04  \n",
      "AHq000052  1.293920e-07  \n",
      "AHq000057  8.513724e-07  \n",
      "...                 ...  \n",
      "AHq024861  1.278564e-24  \n",
      "AHq024869  1.851717e-05  \n",
      "AHq024875  1.569735e-02  \n",
      "AHq024922  7.551273e-25  \n",
      "AHq024948  1.924878e-03  \n",
      "\n",
      "[3854 rows x 6 columns]\n"
     ]
    }
   ],
   "source": [
    "# Manually filtering results for significant DEG based on adjusted p-value after LFC shrinkage\n",
    "significant_results = results_df[(results_df['padj'] < 0.05) & (abs(results_df['log2FoldChange']) > 1)]\n",
    "print(significant_results)"
   ]
  },
  {
   "cell_type": "code",
   "execution_count": 9,
   "metadata": {},
   "outputs": [],
   "source": [
    "save_df(significant_results, 'significant_DEG_results_hypochondriacus_caudatus_df.csv')"
   ]
  },
  {
   "cell_type": "markdown",
   "metadata": {},
   "source": [
    "## Number of positive log2FoldChange (>0) and number of log2FoldChange (<0)"
   ]
  },
  {
   "cell_type": "code",
   "execution_count": 10,
   "metadata": {},
   "outputs": [
    {
     "data": {
      "text/plain": [
       "'1625 genes have a positive log2FoldChange.'"
      ]
     },
     "execution_count": 10,
     "metadata": {},
     "output_type": "execute_result"
    }
   ],
   "source": [
    "f'{len(significant_results[significant_results['log2FoldChange'] > 0])} genes have a positive log2FoldChange.'"
   ]
  },
  {
   "cell_type": "code",
   "execution_count": 11,
   "metadata": {},
   "outputs": [
    {
     "data": {
      "text/plain": [
       "'2229 genes have a negative log2FoldChange.'"
      ]
     },
     "execution_count": 11,
     "metadata": {},
     "output_type": "execute_result"
    }
   ],
   "source": [
    "f'{len(significant_results[significant_results['log2FoldChange'] < 0])} genes have a negative log2FoldChange.'"
   ]
  }
 ],
 "metadata": {
  "kernelspec": {
   "display_name": "Deseq2 Amaranth_2",
   "language": "python",
   "name": "deseq2-amaranth"
  },
  "language_info": {
   "codemirror_mode": {
    "name": "ipython",
    "version": 3
   },
   "file_extension": ".py",
   "mimetype": "text/x-python",
   "name": "python",
   "nbconvert_exporter": "python",
   "pygments_lexer": "ipython3",
   "version": "3.12.6"
  },
  "orig_nbformat": 4
 },
 "nbformat": 4,
 "nbformat_minor": 2
}
